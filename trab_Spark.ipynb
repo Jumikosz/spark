{
  "nbformat": 4,
  "nbformat_minor": 0,
  "metadata": {
    "colab": {
      "provenance": [],
      "authorship_tag": "ABX9TyNdzcL/f+p2jHi9zZFKkTNR",
      "include_colab_link": true
    },
    "kernelspec": {
      "name": "python3",
      "display_name": "Python 3"
    },
    "language_info": {
      "name": "python"
    }
  },
  "cells": [
    {
      "cell_type": "markdown",
      "metadata": {
        "id": "view-in-github",
        "colab_type": "text"
      },
      "source": [
        "<a href=\"https://colab.research.google.com/github/Jumikosz/spark/blob/main/trab_Spark.ipynb\" target=\"_parent\"><img src=\"https://colab.research.google.com/assets/colab-badge.svg\" alt=\"Open In Colab\"/></a>"
      ]
    },
    {
      "cell_type": "markdown",
      "source": [
        "## Trabalho de análise de dados com Spark"
      ],
      "metadata": {
        "id": "P0rPaiTA8KNu"
      }
    },
    {
      "cell_type": "markdown",
      "source": [
        "Instalação do PySpark no notebook"
      ],
      "metadata": {
        "id": "jv0WAr1rqgQg"
      }
    },
    {
      "cell_type": "code",
      "source": [
        "!pip install pyspark"
      ],
      "metadata": {
        "id": "y1MPrAqe2nye"
      },
      "execution_count": null,
      "outputs": []
    },
    {
      "cell_type": "markdown",
      "source": [
        "Criando uma sessão no PySpark"
      ],
      "metadata": {
        "id": "RCRv4hvKqnBJ"
      }
    },
    {
      "cell_type": "code",
      "source": [
        "from pyspark.sql import SparkSession\n",
        "\n",
        "spark = SparkSession.builder.appName(\"trab_pos_spark\").getOrCreate()"
      ],
      "metadata": {
        "id": "gknA7Reu7rg3"
      },
      "execution_count": null,
      "outputs": []
    },
    {
      "cell_type": "markdown",
      "source": [
        "Conectando com o Google Drive"
      ],
      "metadata": {
        "id": "WSDaoI1mqzKP"
      }
    },
    {
      "cell_type": "code",
      "source": [
        "from google.colab import drive\n",
        "\n",
        "drive.mount('/content/drive')"
      ],
      "metadata": {
        "colab": {
          "base_uri": "https://localhost:8080/"
        },
        "id": "tp_PbrNN8PNx",
        "outputId": "9f5be12a-d03d-40dc-df2e-64b1bef52659"
      },
      "execution_count": null,
      "outputs": [
        {
          "output_type": "stream",
          "name": "stdout",
          "text": [
            "Mounted at /content/drive\n"
          ]
        }
      ]
    },
    {
      "cell_type": "markdown",
      "source": [
        "Importando classes e tipos de dados para alterar a definição do schema\n",
        "\n",
        "\n"
      ],
      "metadata": {
        "id": "r1qsEqn7q-tC"
      }
    },
    {
      "cell_type": "code",
      "source": [
        "from pyspark.sql.types import StructType, StructField, StringType, IntegerType, FloatType"
      ],
      "metadata": {
        "id": "2Nd7MTGIN7q1"
      },
      "execution_count": null,
      "outputs": []
    },
    {
      "cell_type": "markdown",
      "source": [
        "---\n",
        "**Database Vendas**"
      ],
      "metadata": {
        "id": "037X8k3a1qcz"
      }
    },
    {
      "cell_type": "markdown",
      "source": [
        "Criando os dataframes através dos arquivos no Google Drive:\n",
        "\n",
        "df_vendas_cliente - Possui os registros dos clientes \\\n",
        "\n",
        "1.  df_vendas_cliente - Possui os registros dos clientes\n",
        "2.  df_vendas_transacoes - Possui os registro de todas as transações efetuadas \\\n",
        "3. df_vendas_lojas - Possui o registro de todas as lojas"
      ],
      "metadata": {
        "id": "pZan10OirlbE"
      }
    },
    {
      "cell_type": "code",
      "source": [
        "df_vendas_cliente = spark.read \\\n",
        "    .option(\"header\", \"true\") \\\n",
        "    .option(\"inferSchema\", \"true\") \\\n",
        "    .option(\"delimiter\", \";\") \\\n",
        "    .csv(\"/content/drive/MyDrive/Datasets/CLIENTES.csv\")\n",
        "\n",
        "df_vendas_transacoes = spark.read \\\n",
        "    .option(\"header\", \"true\") \\\n",
        "    .option(\"inferSchema\", \"true\") \\\n",
        "    .option(\"delimiter\", \";\") \\\n",
        "    .csv(\"/content/drive/MyDrive/Datasets/TRANSACOES.csv\")\n",
        "\n",
        "df_vendas_lojas = spark.read \\\n",
        "    .option(\"header\", \"true\") \\\n",
        "    .option(\"inferSchema\", \"true\") \\\n",
        "    .option(\"delimiter\", \";\") \\\n",
        "    .csv(\"/content/drive/MyDrive/Datasets/LOJAS.csv\")"
      ],
      "metadata": {
        "id": "DIGZo9Pr97xM"
      },
      "execution_count": null,
      "outputs": []
    },
    {
      "cell_type": "markdown",
      "source": [
        "Testando se todos os dataframes foram criados corretamente"
      ],
      "metadata": {
        "id": "Xexi3svWrzkg"
      }
    },
    {
      "cell_type": "code",
      "source": [
        "df_vendas_cliente.show(5, truncate = False)\n",
        "df_vendas_transacoes.show(5, truncate = False)\n",
        "df_vendas_lojas.show(5, truncate = False)"
      ],
      "metadata": {
        "colab": {
          "base_uri": "https://localhost:8080/"
        },
        "id": "UGwoVfWl-0lT",
        "outputId": "9d206b2a-3418-4255-b022-16f72e08fbab"
      },
      "execution_count": null,
      "outputs": [
        {
          "output_type": "stream",
          "name": "stdout",
          "text": [
            "+---+-------------+-----+------+---------+\n",
            "|ID |NOME         |ATIVO|GENERO|CITY     |\n",
            "+---+-------------+-----+------+---------+\n",
            "|0  |Laura        |1    |M     |Curitiba |\n",
            "|1  |Luiza        |1    |F     |Curitiba |\n",
            "|2  |Maria Eduarda|1    |M     |Araucária|\n",
            "|3  |Mariana      |1    |M     |Curitiba |\n",
            "|4  |Ana Clara    |1    |M     |Curitiba |\n",
            "+---+-------------+-----+------+---------+\n",
            "only showing top 5 rows\n",
            "\n",
            "+---+----+-------+------+----------+\n",
            "|ID |LOJA|CLIENTE|VALOR |DATA      |\n",
            "+---+----+-------+------+----------+\n",
            "|1  |3188|1207   |124,00|17/01/2023|\n",
            "|2  |3338|1291   |84,00 |31/05/2023|\n",
            "|3  |1010|1306   |12,00 |03/01/2023|\n",
            "|4  |1292|1792   |56,00 |09/06/2023|\n",
            "|5  |1014|2268   |32,00 |04/03/2023|\n",
            "+---+----+-------+------+----------+\n",
            "only showing top 5 rows\n",
            "\n",
            "+----+-----+--------+---------------+----------------+\n",
            "|ID  |ATIVO|CIDADE  |DATA_INSTALACAO|DATA_DESATIVACAO|\n",
            "+----+-----+--------+---------------+----------------+\n",
            "|1000|1    |Curitiba|14/02/2020     |0               |\n",
            "|1001|1    |Curitiba|04/03/2020     |0               |\n",
            "|1002|1    |Curitiba|04/03/2020     |0               |\n",
            "|1003|0    |Curitiba|24/02/2020     |04/11/2021 11:35|\n",
            "|1004|1    |Curitiba|26/03/2020     |0               |\n",
            "+----+-----+--------+---------------+----------------+\n",
            "only showing top 5 rows\n",
            "\n"
          ]
        }
      ]
    },
    {
      "cell_type": "markdown",
      "source": [
        "Visualizando a estrutura de dados (schema) dos dataframes criados"
      ],
      "metadata": {
        "id": "2KpT9UHJr2Do"
      }
    },
    {
      "cell_type": "code",
      "source": [
        "df_vendas_cliente.printSchema()\n",
        "df_vendas_transacoes.printSchema()\n",
        "df_vendas_lojas.printSchema()"
      ],
      "metadata": {
        "colab": {
          "base_uri": "https://localhost:8080/"
        },
        "id": "UmOpFFvx_8On",
        "outputId": "a72d6c59-7a12-4d93-ff18-f1d853882334"
      },
      "execution_count": null,
      "outputs": [
        {
          "output_type": "stream",
          "name": "stdout",
          "text": [
            "root\n",
            " |-- ID: integer (nullable = true)\n",
            " |-- NOME: string (nullable = true)\n",
            " |-- ATIVO: integer (nullable = true)\n",
            " |-- GENERO: string (nullable = true)\n",
            " |-- CITY: string (nullable = true)\n",
            "\n",
            "root\n",
            " |-- ID: integer (nullable = true)\n",
            " |-- LOJA: string (nullable = true)\n",
            " |-- CLIENTE: integer (nullable = true)\n",
            " |-- VALOR: string (nullable = true)\n",
            " |-- DATA: string (nullable = true)\n",
            "\n",
            "root\n",
            " |-- ID: integer (nullable = true)\n",
            " |-- ATIVO: integer (nullable = true)\n",
            " |-- CIDADE: string (nullable = true)\n",
            " |-- DATA_INSTALACAO: string (nullable = true)\n",
            " |-- DATA_DESATIVACAO: string (nullable = true)\n",
            "\n"
          ]
        }
      ]
    },
    {
      "cell_type": "markdown",
      "source": [
        "Importando algumas bibliotecas necessárias para criar consultas usando o PySpark SQL"
      ],
      "metadata": {
        "id": "op3KqdAXsEk_"
      }
    },
    {
      "cell_type": "code",
      "source": [
        "from pyspark.sql import functions as F\n",
        "from pyspark.sql.functions import col, count, sum, count_distinct, date_format, avg, max\n",
        "from pyspark.sql.functions import regexp_replace"
      ],
      "metadata": {
        "id": "mzufadkGAB5a"
      },
      "execution_count": null,
      "outputs": []
    },
    {
      "cell_type": "markdown",
      "source": [
        "Precisei alterar o tipo de dado que estava como String e substitui a \",\" por \".\" e exibi o schema do dataframe"
      ],
      "metadata": {
        "id": "QUrPKj3PsMzn"
      }
    },
    {
      "cell_type": "code",
      "source": [
        "df_vendas_transacoes = df_vendas_transacoes.withColumn(\"VALOR\", regexp_replace(\"VALOR\", \",\", \".\").cast(\"int\"))\n",
        "df_vendas_transacoes.printSchema()"
      ],
      "metadata": {
        "colab": {
          "base_uri": "https://localhost:8080/"
        },
        "id": "vsVA40jdBLsG",
        "outputId": "97d5a4e7-af15-40f6-c4c9-40727beba46d"
      },
      "execution_count": null,
      "outputs": [
        {
          "output_type": "stream",
          "name": "stdout",
          "text": [
            "root\n",
            " |-- ID: integer (nullable = true)\n",
            " |-- LOJA: string (nullable = true)\n",
            " |-- CLIENTE: integer (nullable = true)\n",
            " |-- VALOR: integer (nullable = true)\n",
            " |-- DATA: string (nullable = true)\n",
            "\n"
          ]
        }
      ]
    },
    {
      "cell_type": "markdown",
      "source": [
        "---\n",
        "**Database Netflix**"
      ],
      "metadata": {
        "id": "M0fJAfuL2IJ_"
      }
    },
    {
      "cell_type": "markdown",
      "source": [
        "Criando os dataframes através dos arquivos no Google Drive:\n",
        "\n",
        "1. df_netflix_movie - Possui os registros dos filmes\n",
        "2. df_netflix_rating - Possui os registros de avaliações dos filmes\n"
      ],
      "metadata": {
        "id": "UcSNQLTJ2yWV"
      }
    },
    {
      "cell_type": "code",
      "source": [
        "df_netflix_movie = spark.read.csv(path=\"/content/drive/MyDrive/Datasets/Dataset Netflix/Netflix_Dataset_Movie.csv\", header=True, inferSchema=True)\n",
        "df_netflix_rating = spark.read.csv(path=\"/content/drive/MyDrive/Datasets/Dataset Netflix/Netflix_Dataset_Rating.csv\", header=True, inferSchema=True)"
      ],
      "metadata": {
        "id": "E8ST6AMM2IKA"
      },
      "execution_count": null,
      "outputs": []
    },
    {
      "cell_type": "markdown",
      "source": [
        "Testando se todos os dataframes foram criados corretamente"
      ],
      "metadata": {
        "id": "Sq1zBaw33MCK"
      }
    },
    {
      "cell_type": "code",
      "source": [
        "df_netflix_movie.show(5, truncate = False)\n",
        "df_netflix_rating.show(5, truncate = False)"
      ],
      "metadata": {
        "colab": {
          "base_uri": "https://localhost:8080/"
        },
        "outputId": "000c8046-2e49-4826-dfe9-0103cb95f095",
        "id": "VPIQJpRp2IKA"
      },
      "execution_count": null,
      "outputs": [
        {
          "output_type": "stream",
          "name": "stdout",
          "text": [
            "+--------+----+----------------------------+\n",
            "|Movie_ID|Year|Name                        |\n",
            "+--------+----+----------------------------+\n",
            "|1       |2003|Dinosaur Planet             |\n",
            "|2       |2004|Isle of Man TT 2004 Review  |\n",
            "|3       |1997|Character                   |\n",
            "|4       |1994|Paula Abdul's Get Up & Dance|\n",
            "|5       |2004|The Rise and Fall of ECW    |\n",
            "+--------+----+----------------------------+\n",
            "only showing top 5 rows\n",
            "\n",
            "+-------+------+--------+\n",
            "|User_ID|Rating|Movie_ID|\n",
            "+-------+------+--------+\n",
            "|712664 |5     |3       |\n",
            "|1331154|4     |3       |\n",
            "|2632461|3     |3       |\n",
            "|44937  |5     |3       |\n",
            "|656399 |4     |3       |\n",
            "+-------+------+--------+\n",
            "only showing top 5 rows\n",
            "\n"
          ]
        }
      ]
    },
    {
      "cell_type": "markdown",
      "source": [
        "Visualizando a estrutura de dados (schema) dos dataframes criados"
      ],
      "metadata": {
        "id": "9FdBAr6j3UMD"
      }
    },
    {
      "cell_type": "code",
      "source": [
        "df_netflix_movie.printSchema()\n",
        "df_netflix_rating.printSchema()"
      ],
      "metadata": {
        "colab": {
          "base_uri": "https://localhost:8080/"
        },
        "outputId": "51070346-6c1e-4895-dc7e-c63a0c2a45ca",
        "id": "u-mxG2KT2IKB"
      },
      "execution_count": null,
      "outputs": [
        {
          "output_type": "stream",
          "name": "stdout",
          "text": [
            "root\n",
            " |-- Movie_ID: integer (nullable = true)\n",
            " |-- Year: integer (nullable = true)\n",
            " |-- Name: string (nullable = true)\n",
            "\n",
            "root\n",
            " |-- User_ID: integer (nullable = true)\n",
            " |-- Rating: integer (nullable = true)\n",
            " |-- Movie_ID: integer (nullable = true)\n",
            "\n"
          ]
        }
      ]
    },
    {
      "cell_type": "markdown",
      "source": [
        "---\n",
        "# Início das consultas e análise de dados utilizando PySpark SQL Functions\n"
      ],
      "metadata": {
        "id": "Kf3inB7otX2c"
      }
    },
    {
      "cell_type": "markdown",
      "source": [
        "**Dataframes Vendas**"
      ],
      "metadata": {
        "id": "xqBbU-9p4llN"
      }
    },
    {
      "cell_type": "markdown",
      "source": [
        "O objetivo dessa consulta é avaliar o total de transações que cada cliente já executou e, consequentemente, os clientes mais ativos. Usando a função de agragação count()\n"
      ],
      "metadata": {
        "id": "z06ZE5IIuZfr"
      }
    },
    {
      "cell_type": "code",
      "source": [
        "consulta01 = df_vendas_cliente.join(\n",
        "            df_vendas_transacoes,\n",
        "            df_vendas_cliente.ID == df_vendas_transacoes.CLIENTE,\n",
        "            \"left\") \\\n",
        "            .where(col(\"ID\").isNotNull()) \\\n",
        "            .groupBy(\"id\", \"nome\") \\\n",
        "            .agg({\"*\": \"count\"}) \\\n",
        "            .withColumnRenamed(\"count(1)\", \"total_transacoes\") \\\n",
        "            .orderBy(col(\"total_transacoes\").desc()) \\\n",
        "            .limit(20)"
      ],
      "metadata": {
        "id": "4aOkW60RAWzl"
      },
      "execution_count": null,
      "outputs": []
    },
    {
      "cell_type": "markdown",
      "source": [
        "Exibindo o resultado do dataframe usando a função .show(), o cliente que mais comprou foi o Gabriel."
      ],
      "metadata": {
        "id": "eCsVQxkywC1q"
      }
    },
    {
      "cell_type": "code",
      "source": [
        "consulta01.show()"
      ],
      "metadata": {
        "colab": {
          "base_uri": "https://localhost:8080/"
        },
        "id": "hCwlQjV1DkNe",
        "outputId": "484f38a2-f7bf-4382-aefc-cd53e1561a01"
      },
      "execution_count": null,
      "outputs": [
        {
          "output_type": "stream",
          "name": "stdout",
          "text": [
            "+------+---------+----------------+\n",
            "|    id|     nome|total_transacoes|\n",
            "+------+---------+----------------+\n",
            "|450405|  Gabriel|            2182|\n",
            "|505132|  Manuela|            1097|\n",
            "|444612|  Manuela|            1007|\n",
            "|405123|   Afonso|             786|\n",
            "|432171|    Pedro|             747|\n",
            "|450426|    Alice|             716|\n",
            "|419959|    Lucas|             664|\n",
            "|525734|Guilherme|             605|\n",
            "|559536|    Laura|             585|\n",
            "|601902|   Marina|             538|\n",
            "|438969|  Gabriel|             456|\n",
            "|498439|     Caio|             435|\n",
            "|512916|   Muriel|             340|\n",
            "|280302|   Bianca|             316|\n",
            "|455609|    Isaac|             253|\n",
            "|513277|   Miguel|             247|\n",
            "|284187|  Gabriel|             224|\n",
            "|517632|  Eduarda|             212|\n",
            "|405468|    Alice|             206|\n",
            "|462861|   Felipe|             204|\n",
            "+------+---------+----------------+\n",
            "\n"
          ]
        }
      ]
    },
    {
      "cell_type": "markdown",
      "source": [
        "O objetivo dessa consulta é entender quais são as lojas mais relevantes e possuem um maior volume de vendas"
      ],
      "metadata": {
        "id": "_N1DPx_XwMAn"
      }
    },
    {
      "cell_type": "code",
      "source": [
        "consulta02 = df_vendas_lojas.join(\n",
        "            df_vendas_transacoes,\n",
        "            df_vendas_lojas.ID == df_vendas_transacoes.LOJA, 'left') \\\n",
        "            .groupBy('cidade') \\\n",
        "            .agg(F.count('id').alias('total_vendas')) \\\n",
        "            .orderBy(F.col('total_vendas').desc())\n"
      ],
      "metadata": {
        "id": "clZXTu74EqGh"
      },
      "execution_count": null,
      "outputs": []
    },
    {
      "cell_type": "markdown",
      "source": [
        "Exibindo o resultado do dataframe percebemos que a cidade que possui mais vendas é São Paulo, seguida de Curitiba."
      ],
      "metadata": {
        "id": "rM0q_uk2wpF3"
      }
    },
    {
      "cell_type": "code",
      "source": [
        "consulta02.show()"
      ],
      "metadata": {
        "colab": {
          "base_uri": "https://localhost:8080/"
        },
        "id": "sb_wDhc1EzAU",
        "outputId": "b6806489-32eb-49b1-c095-2d10976df928"
      },
      "execution_count": null,
      "outputs": [
        {
          "output_type": "stream",
          "name": "stdout",
          "text": [
            "+-------------------+------------+\n",
            "|             cidade|total_vendas|\n",
            "+-------------------+------------+\n",
            "|          São Paulo|      346733|\n",
            "|           Curitiba|      113611|\n",
            "|     Rio de Janeiro|       35828|\n",
            "|     Belo Horizonte|       26897|\n",
            "|          Guarulhos|       26082|\n",
            "|           Blumenau|       23605|\n",
            "|           Brasília|       22414|\n",
            "|           Salvador|       18845|\n",
            "|       Porto Alegre|       18038|\n",
            "|           Londrina|       16362|\n",
            "|             Maceió|       13878|\n",
            "|            Jundiaí|       12943|\n",
            "|            Vitória|       12398|\n",
            "|             Osasco|       11630|\n",
            "|        Santo André|       10930|\n",
            "|São José dos Campos|       10568|\n",
            "|             Cuiabá|       10128|\n",
            "|       Campo Grande|       10028|\n",
            "|             Santos|        9837|\n",
            "|           Teresina|        8535|\n",
            "+-------------------+------------+\n",
            "only showing top 20 rows\n",
            "\n"
          ]
        }
      ]
    },
    {
      "cell_type": "markdown",
      "source": [
        "Entendemos qual o cliente que comprou mais vezes, agora a ideia é avaliar qual foi o cliente que mais gastou. Usando a função de agragação sum()"
      ],
      "metadata": {
        "id": "uvuzBLW_xbMS"
      }
    },
    {
      "cell_type": "code",
      "source": [
        "df_vendas_transacoes = df_vendas_transacoes.withColumnRenamed(\"ID\", \"transacao_id\")\n",
        "\n",
        "consulta03 = df_vendas_cliente.join(\n",
        "    df_vendas_transacoes,\n",
        "    df_vendas_cliente.ID == df_vendas_transacoes.CLIENTE,\n",
        "    \"left\") \\\n",
        "    .groupBy(\"id\", \"nome\") \\\n",
        "    .agg(sum(\"VALOR\").alias(\"valor_total_compras\")) \\\n",
        "    .orderBy(col(\"valor_total_compras\").desc()) \\\n",
        "    .limit(20)"
      ],
      "metadata": {
        "id": "3011P302LLgS"
      },
      "execution_count": null,
      "outputs": []
    },
    {
      "cell_type": "markdown",
      "source": [
        "O cliente com mais transações (Gabriel) também é o cliente com maior valor gasto"
      ],
      "metadata": {
        "id": "y630qmRyx2bB"
      }
    },
    {
      "cell_type": "code",
      "source": [
        "consulta03.show()"
      ],
      "metadata": {
        "colab": {
          "base_uri": "https://localhost:8080/"
        },
        "id": "9pwrJCWZL1fM",
        "outputId": "d9723d37-05ee-48c4-e70c-0428d31adabd"
      },
      "execution_count": null,
      "outputs": [
        {
          "output_type": "stream",
          "name": "stdout",
          "text": [
            "+------+---------+-------------------+\n",
            "|    id|     nome|valor_total_compras|\n",
            "+------+---------+-------------------+\n",
            "|450405|  Gabriel|             194545|\n",
            "|505132|  Manuela|              99883|\n",
            "|444612|  Manuela|              88969|\n",
            "|405123|   Afonso|              68857|\n",
            "|432171|    Pedro|              63592|\n",
            "|450426|    Alice|              61619|\n",
            "|419959|    Lucas|              59134|\n",
            "|525734|Guilherme|              55120|\n",
            "|559536|    Laura|              53434|\n",
            "|601902|   Marina|              49801|\n",
            "|438969|  Gabriel|              40300|\n",
            "|498439|     Caio|              37255|\n",
            "|512916|   Muriel|              30425|\n",
            "|280302|   Bianca|              27993|\n",
            "|455609|    Isaac|              22594|\n",
            "|513277|   Miguel|              20546|\n",
            "|284187|  Gabriel|              19302|\n",
            "|405468|    Alice|              18211|\n",
            "|462861|   Felipe|              17911|\n",
            "|517632|  Eduarda|              17306|\n",
            "+------+---------+-------------------+\n",
            "\n"
          ]
        }
      ]
    },
    {
      "cell_type": "markdown",
      "source": [
        "Nessa consulta o objetivo é entender quantos clientes ativos cada loja possui, ordenado pelas lojas com maior número. Usando a função count_distinct()\n"
      ],
      "metadata": {
        "id": "LQGudl5QyLkY"
      }
    },
    {
      "cell_type": "code",
      "source": [
        "consulta04 = df_vendas_lojas.join(\n",
        "    df_vendas_transacoes,\n",
        "    df_vendas_lojas.ID == df_vendas_transacoes.LOJA,\n",
        "    \"left\") \\\n",
        "    .join(df_vendas_cliente, df_vendas_transacoes.CLIENTE == df_vendas_cliente.ID, \"left\") \\\n",
        "    .filter(df_vendas_cliente.ATIVO == 1) \\\n",
        "    .groupBy(df_vendas_lojas.ID, df_vendas_lojas.CIDADE) \\\n",
        "    .agg(count_distinct(df_vendas_cliente.ID).alias(\"clientes_ativos\")) \\\n",
        "    .orderBy(col(\"clientes_ativos\").desc())"
      ],
      "metadata": {
        "id": "AJKqMsx4R01e"
      },
      "execution_count": null,
      "outputs": []
    },
    {
      "cell_type": "markdown",
      "source": [
        "Ao visualizar o resultado, percebemos que a loja 3225, que fica em São Paulo, é a loja com maior número de clientes ativos"
      ],
      "metadata": {
        "id": "IzTHLRS0yrcX"
      }
    },
    {
      "cell_type": "code",
      "source": [
        "consulta04.show()"
      ],
      "metadata": {
        "colab": {
          "base_uri": "https://localhost:8080/"
        },
        "id": "VhefAKH7Ygy_",
        "outputId": "36da50ab-a599-4596-abe8-73ca8afd9de1"
      },
      "execution_count": null,
      "outputs": [
        {
          "output_type": "stream",
          "name": "stdout",
          "text": [
            "+----+--------------+---------------+\n",
            "|  ID|        CIDADE|clientes_ativos|\n",
            "+----+--------------+---------------+\n",
            "|3225|     São Paulo|           1263|\n",
            "|1555|     Guarulhos|            819|\n",
            "|2245|        Recife|            801|\n",
            "|1821|      São José|            764|\n",
            "|1001|      Curitiba|            740|\n",
            "|1741|        Santos|            732|\n",
            "|1707|      Salvador|            696|\n",
            "|1823|      Londrina|            660|\n",
            "|2432|     São Paulo|            641|\n",
            "|2655|     São Paulo|            638|\n",
            "|1043|      Curitiba|            599|\n",
            "|1112|  Campo Grande|            589|\n",
            "|1411|       Jundiaí|            589|\n",
            "|3252|      Curitiba|            588|\n",
            "|2565|     São Paulo|            563|\n",
            "|2868|     São Paulo|            547|\n",
            "|3212|      Brasília|            540|\n",
            "|1039|      Curitiba|            519|\n",
            "|1014|      Curitiba|            516|\n",
            "|1231|Belo Horizonte|            514|\n",
            "+----+--------------+---------------+\n",
            "only showing top 20 rows\n",
            "\n"
          ]
        }
      ]
    },
    {
      "cell_type": "markdown",
      "source": [
        "Agora a ideia é saber a quantidade de clientes ativos por cidade"
      ],
      "metadata": {
        "id": "OoFysYiXzNku"
      }
    },
    {
      "cell_type": "code",
      "source": [
        "consulta05 = df_vendas_lojas.join(df_vendas_transacoes, df_vendas_lojas.ID == df_vendas_transacoes.LOJA, \"left\") \\\n",
        "            .join(df_vendas_cliente, df_vendas_cliente.ID == df_vendas_transacoes.CLIENTE) \\\n",
        "            .filter(df_vendas_cliente.ATIVO == 1) \\\n",
        "            .groupBy(\"cidade\") \\\n",
        "            .agg(count_distinct(df_vendas_cliente.ID).alias(\"clientes_ativos\")) \\\n",
        "            .orderBy(col(\"clientes_ativos\").desc())\n"
      ],
      "metadata": {
        "id": "XxmIsCdBYxhQ"
      },
      "execution_count": null,
      "outputs": []
    },
    {
      "cell_type": "markdown",
      "source": [
        "São Paulo é a cidade com maior número de clientes ativos"
      ],
      "metadata": {
        "id": "pfTGYKM9zb1m"
      }
    },
    {
      "cell_type": "code",
      "source": [
        "consulta05.show()"
      ],
      "metadata": {
        "colab": {
          "base_uri": "https://localhost:8080/"
        },
        "id": "GYNqHFzikjnE",
        "outputId": "d8c52bc0-35f4-4de6-fc71-c123d845cb68"
      },
      "execution_count": null,
      "outputs": [
        {
          "output_type": "stream",
          "name": "stdout",
          "text": [
            "+-------------------+---------------+\n",
            "|             cidade|clientes_ativos|\n",
            "+-------------------+---------------+\n",
            "|          São Paulo|          61377|\n",
            "|           Curitiba|          22951|\n",
            "|     Rio de Janeiro|           6145|\n",
            "|          Guarulhos|           5520|\n",
            "|     Belo Horizonte|           5433|\n",
            "|           Brasília|           5390|\n",
            "|           Salvador|           4718|\n",
            "|           Blumenau|           3380|\n",
            "|           Londrina|           3248|\n",
            "|             Santos|           2846|\n",
            "|             Cuiabá|           2796|\n",
            "|       Porto Alegre|           2694|\n",
            "|             Maceió|           2686|\n",
            "|            Jundiaí|           2594|\n",
            "|        Santo André|           2518|\n",
            "|            Vitória|           2335|\n",
            "|             Osasco|           2316|\n",
            "|       Campo Grande|           2273|\n",
            "|           Teresina|           2142|\n",
            "|São José dos Campos|           1898|\n",
            "+-------------------+---------------+\n",
            "only showing top 20 rows\n",
            "\n"
          ]
        }
      ]
    },
    {
      "cell_type": "markdown",
      "source": [
        "Aqui a ideia é saber quais são as lojas com o maior valor de venda"
      ],
      "metadata": {
        "id": "2B1wKe-90HzV"
      }
    },
    {
      "cell_type": "code",
      "source": [
        "consulta06 = df_vendas_lojas.join(df_vendas_transacoes, df_vendas_lojas.ID == df_vendas_transacoes.LOJA, \"left\") \\\n",
        "            .filter(df_vendas_lojas.ID.isNotNull()) \\\n",
        "            .groupBy(df_vendas_lojas.ID, df_vendas_lojas.CIDADE) \\\n",
        "            .agg(sum(\"VALOR\").alias(\"total_vendas\")) \\\n",
        "            .orderBy(col(\"total_vendas\").desc())\n"
      ],
      "metadata": {
        "id": "fwysFmTwlKFz"
      },
      "execution_count": null,
      "outputs": []
    },
    {
      "cell_type": "markdown",
      "source": [
        "A loja com maior faturamento é a loja 3248, localizada em São Paulo. Percebemos também com o resultado que das 20 lojas com maior faturamento São Paulo representa quase metade"
      ],
      "metadata": {
        "id": "5IQtWiBR0aTj"
      }
    },
    {
      "cell_type": "code",
      "source": [
        "consulta06.show()"
      ],
      "metadata": {
        "colab": {
          "base_uri": "https://localhost:8080/"
        },
        "id": "F64jgejRmZNG",
        "outputId": "75abc88c-63d1-4688-ed3d-7f336f0c21bc"
      },
      "execution_count": null,
      "outputs": [
        {
          "output_type": "stream",
          "name": "stdout",
          "text": [
            "+----+--------------+------------+\n",
            "|  ID|        CIDADE|total_vendas|\n",
            "+----+--------------+------------+\n",
            "|3248|     São Paulo|      405074|\n",
            "|1821|      São José|      385808|\n",
            "|1555|     Guarulhos|      381139|\n",
            "|2432|     São Paulo|      369673|\n",
            "|2767|     São Paulo|      364937|\n",
            "|2209|     São Paulo|      342659|\n",
            "|1411|       Jundiaí|      334621|\n",
            "|1001|      Curitiba|      311426|\n",
            "|2968|       Vitória|      306488|\n",
            "|2200|      Blumenau|      289802|\n",
            "|1043|      Curitiba|      286940|\n",
            "|2655|     São Paulo|      283105|\n",
            "|2909|     São Paulo|      279164|\n",
            "|2549|     Joinville|      277094|\n",
            "|3225|     São Paulo|      275934|\n",
            "|1974|     São Paulo|      274063|\n",
            "|2245|        Recife|      271236|\n",
            "|1231|Belo Horizonte|      268544|\n",
            "|2132|  Porto Alegre|      266450|\n",
            "|2953|Rio de Janeiro|      265218|\n",
            "+----+--------------+------------+\n",
            "only showing top 20 rows\n",
            "\n"
          ]
        }
      ]
    },
    {
      "cell_type": "markdown",
      "source": [
        "Nessa consulta o objetivo é entender a quantidade de clientes do sexo feminino e masculino em cada cidade, por ordem alfabética"
      ],
      "metadata": {
        "id": "-vIufNrx093Y"
      }
    },
    {
      "cell_type": "code",
      "source": [
        "consulta07 = df_vendas_lojas.join(df_vendas_transacoes, df_vendas_lojas.ID == df_vendas_transacoes.LOJA, \"left\") \\\n",
        "            .join(df_vendas_cliente, df_vendas_cliente.ID == df_vendas_transacoes.CLIENTE, \"left\") \\\n",
        "            .where(df_vendas_cliente.GENERO.isin(\"F\", \"M\")) \\\n",
        "            .groupBy(df_vendas_lojas.CIDADE, df_vendas_cliente.GENERO) \\\n",
        "            .agg(count_distinct(df_vendas_cliente.ID).alias(\"total_clientes\")) \\\n",
        "            .orderBy(df_vendas_lojas.CIDADE)"
      ],
      "metadata": {
        "id": "AN7LqzHLp1dq"
      },
      "execution_count": null,
      "outputs": []
    },
    {
      "cell_type": "code",
      "source": [
        "consulta07.show()"
      ],
      "metadata": {
        "colab": {
          "base_uri": "https://localhost:8080/"
        },
        "id": "6Bw32K21rgyV",
        "outputId": "2a953480-c7e5-47a9-ac84-6dc681644e01"
      },
      "execution_count": null,
      "outputs": [
        {
          "output_type": "stream",
          "name": "stdout",
          "text": [
            "+------------------+------+--------------+\n",
            "|            CIDADE|GENERO|total_clientes|\n",
            "+------------------+------+--------------+\n",
            "|            Agudos|     F|            30|\n",
            "|            Agudos|     M|            39|\n",
            "|            Amparo|     M|           293|\n",
            "|            Amparo|     F|           190|\n",
            "|        Ananindeua|     F|            44|\n",
            "|        Ananindeua|     M|            44|\n",
            "|          Anápolis|     M|            88|\n",
            "|          Anápolis|     F|            46|\n",
            "|            Apiúna|     M|            79|\n",
            "|            Apiúna|     F|            86|\n",
            "|           Aracaju|     F|             1|\n",
            "|        Araraquara|     M|             3|\n",
            "|        Araraquara|     F|             2|\n",
            "|            Araras|     F|            96|\n",
            "|            Araras|     M|            86|\n",
            "|         Araucária|     F|             1|\n",
            "|         Araçatuba|     F|           597|\n",
            "|         Araçatuba|     M|           605|\n",
            "|Balneário Camboriú|     M|             3|\n",
            "|           Barueri|     M|           777|\n",
            "+------------------+------+--------------+\n",
            "only showing top 20 rows\n",
            "\n"
          ]
        }
      ]
    },
    {
      "cell_type": "markdown",
      "source": [
        "**Dataframes Netflix**"
      ],
      "metadata": {
        "id": "14D0MF-euPGa"
      }
    },
    {
      "cell_type": "markdown",
      "source": [
        "Nessa primeira consulta queremos saber qual a média de avaliação de cada filme. Usando a função de agragação avg()"
      ],
      "metadata": {
        "id": "bgq4-aNu5Bbd"
      }
    },
    {
      "cell_type": "code",
      "source": [
        "consulta01_nx = df_netflix_movie.join(df_netflix_rating, df_netflix_movie.Movie_ID == df_netflix_rating.Movie_ID, \"left\") \\\n",
        "                .filter(df_netflix_rating.Rating.isNotNull()) \\\n",
        "                .groupBy(df_netflix_movie.Name) \\\n",
        "                .agg(avg(col=df_netflix_rating.Rating).alias(\"media_avaliacao\")) \\\n",
        "                .orderBy(col(\"media_avaliacao\").desc())"
      ],
      "metadata": {
        "id": "L0LEIJJHvB0S"
      },
      "execution_count": null,
      "outputs": []
    },
    {
      "cell_type": "markdown",
      "source": [
        "O filme com a melhor média é **Lost: Season 1**"
      ],
      "metadata": {
        "id": "oYPJvGdu5Ojw"
      }
    },
    {
      "cell_type": "code",
      "source": [
        "consulta01_nx.show()"
      ],
      "metadata": {
        "colab": {
          "base_uri": "https://localhost:8080/"
        },
        "id": "SGM6lCkvvCvh",
        "outputId": "86ec0287-4787-495a-b34e-cbc1c34f1944"
      },
      "execution_count": null,
      "outputs": [
        {
          "output_type": "stream",
          "name": "stdout",
          "text": [
            "+--------------------+------------------+\n",
            "|                Name|   media_avaliacao|\n",
            "+--------------------+------------------+\n",
            "|      Lost: Season 1| 4.665432098765432|\n",
            "|The Simpsons: Sea...| 4.589824034920202|\n",
            "|Family Guy: Freak...| 4.520766378244747|\n",
            "|Six Feet Under: S...| 4.461601211979955|\n",
            "|           Inu-Yasha| 4.457773512476008|\n",
            "|Stargate SG-1: Se...| 4.456026058631922|\n",
            "|The Best of Frien...| 4.449167996352861|\n",
            "|The West Wing: Se...|  4.43625843780135|\n",
            "|Lord of the Rings...|  4.43148917942777|\n",
            "|Gilmore Girls: Se...| 4.428942582488959|\n",
            "|             Firefly| 4.410771903698188|\n",
            "|The Simpsons: Sea...| 4.408041422306757|\n",
            "|Finding Nemo (Wid...| 4.395903857377832|\n",
            "|    Samurai Champloo| 4.395629238884703|\n",
            "|The Simpsons: Tre...| 4.395329752312742|\n",
            "|       The Godfather| 4.392642600755082|\n",
            "|       CSI: Season 1| 4.375887066005341|\n",
            "|Buffy the Vampire...|  4.37184159378037|\n",
            "|Stargate SG-1: Se...|4.3612002264578225|\n",
            "|   Friends: Season 6| 4.359458908299912|\n",
            "+--------------------+------------------+\n",
            "only showing top 20 rows\n",
            "\n"
          ]
        }
      ]
    },
    {
      "cell_type": "markdown",
      "source": [
        "Aqui a ideia é saber quais são os filmes com a classificação acima de 4,5"
      ],
      "metadata": {
        "id": "F4WtIAYE5sUJ"
      }
    },
    {
      "cell_type": "code",
      "source": [
        "consulta02_nx = df_netflix_movie.join(\n",
        "                df_netflix_rating,\n",
        "                df_netflix_movie.Movie_ID == df_netflix_rating.Movie_ID,\n",
        "                \"left\") \\\n",
        "                .groupBy(df_netflix_movie.Name) \\\n",
        "                .agg(F.avg(df_netflix_rating.Rating).alias(\"media_avaliacao\")).filter(col(\"media_avaliacao\") >= 4.5) \\\n",
        "                .orderBy(col(\"media_avaliacao\").desc())"
      ],
      "metadata": {
        "id": "lfUU99rfwytQ"
      },
      "execution_count": null,
      "outputs": []
    },
    {
      "cell_type": "markdown",
      "source": [
        "Somente 3 filmes possuem avaliação maior que 4,5:"
      ],
      "metadata": {
        "id": "tQ_xlEyh513J"
      }
    },
    {
      "cell_type": "code",
      "source": [
        "consulta02_nx.show()"
      ],
      "metadata": {
        "colab": {
          "base_uri": "https://localhost:8080/"
        },
        "id": "_NNK5jKrw2J0",
        "outputId": "fddead77-2dec-4deb-c5ae-7e25cd14bfd0"
      },
      "execution_count": null,
      "outputs": [
        {
          "output_type": "stream",
          "name": "stdout",
          "text": [
            "+--------------------+-----------------+\n",
            "|                Name|  media_avaliacao|\n",
            "+--------------------+-----------------+\n",
            "|      Lost: Season 1|4.665432098765432|\n",
            "|The Simpsons: Sea...|4.589824034920202|\n",
            "|Family Guy: Freak...|4.520766378244747|\n",
            "+--------------------+-----------------+\n",
            "\n"
          ]
        }
      ]
    },
    {
      "cell_type": "markdown",
      "source": [
        "Considerando apenas filmes lançados em 2005, quais são os com maior avaliação? Usando a função de agragação max()"
      ],
      "metadata": {
        "id": "nN8XIvwk6BXa"
      }
    },
    {
      "cell_type": "code",
      "source": [
        "consulta03_nx = df_netflix_movie.join(\n",
        "                df_netflix_rating,\n",
        "                df_netflix_movie.Movie_ID == df_netflix_rating.Movie_ID,\n",
        "                \"left\") \\\n",
        "                .groupBy(df_netflix_movie.Name, df_netflix_movie.Year) \\\n",
        "                .agg(F.max(df_netflix_rating.Rating).alias(\"max_rating\")) \\\n",
        "                .filter(df_netflix_movie.Year == 2005) \\\n",
        "                .orderBy(col(\"max_rating\").desc())"
      ],
      "metadata": {
        "id": "WvE7p7pLyLrF"
      },
      "execution_count": null,
      "outputs": []
    },
    {
      "cell_type": "code",
      "source": [
        "consulta03_nx.show()"
      ],
      "metadata": {
        "colab": {
          "base_uri": "https://localhost:8080/"
        },
        "id": "NzmFfg8JyQEI",
        "outputId": "2ad4905d-0f69-41fd-8776-ef7c35622d3a"
      },
      "execution_count": null,
      "outputs": [
        {
          "output_type": "stream",
          "name": "stdout",
          "text": [
            "+--------------------+----+----------+\n",
            "|                Name|Year|max_rating|\n",
            "+--------------------+----+----------+\n",
            "|Pooh's Heffalump ...|2005|         5|\n",
            "|The Hitchhiker's ...|2005|         5|\n",
            "|        Coach Carter|2005|         5|\n",
            "| Kicking & Screaming|2005|         5|\n",
            "|        Nobody Knows|2005|         5|\n",
            "|           7 Seconds|2005|         5|\n",
            "|The Ballad of Jac...|2005|         5|\n",
            "|       The Sandlot 2|2005|         5|\n",
            "|       Batman Begins|2005|         5|\n",
            "|     Alias: Season 4|2005|         5|\n",
            "|       King's Ransom|2005|         5|\n",
            "|           Unleashed|2005|         5|\n",
            "|        Empire Falls|2005|         5|\n",
            "|         Beauty Shop|2005|         5|\n",
            "|         Saving Face|2005|         5|\n",
            "|               11:14|2005|         5|\n",
            "|        The Pacifier|2005|         5|\n",
            "|The Amityville Ho...|2005|         5|\n",
            "|          Look at Me|2005|         5|\n",
            "|          Dead Birds|2005|         5|\n",
            "+--------------------+----+----------+\n",
            "only showing top 20 rows\n",
            "\n"
          ]
        }
      ]
    },
    {
      "cell_type": "markdown",
      "source": [
        "Nessa consulta o objetivo é saber a quantidade de avaliações de cada filme, considerando apenas os que tiveram pelo menos uma avaliação"
      ],
      "metadata": {
        "id": "9sRd5cZ-6kx6"
      }
    },
    {
      "cell_type": "code",
      "source": [
        "consulta04_nx = df_netflix_movie.join(\n",
        "                df_netflix_rating,\n",
        "                df_netflix_movie.Movie_ID == df_netflix_rating.Movie_ID,\n",
        "                \"left\") \\\n",
        "                .groupBy(df_netflix_movie.Name.alias(\"filme\")) \\\n",
        "                .agg(F.count(df_netflix_rating.Rating).alias(\"num_avaliacoes\")) \\\n",
        "                .filter(col(\"num_avaliacoes\") > 0) \\\n",
        "                .orderBy(col(\"num_avaliacoes\").desc())\n"
      ],
      "metadata": {
        "id": "4iNEyh9ujQgS"
      },
      "execution_count": null,
      "outputs": []
    },
    {
      "cell_type": "code",
      "source": [
        "consulta04_nx.show()"
      ],
      "metadata": {
        "colab": {
          "base_uri": "https://localhost:8080/"
        },
        "id": "cvjDe2KHneC0",
        "outputId": "fe6ac7df-0c1a-4b8e-91ba-7411fa94e081"
      },
      "execution_count": null,
      "outputs": [
        {
          "output_type": "stream",
          "name": "stdout",
          "text": [
            "+--------------------+--------------+\n",
            "|               filme|num_avaliacoes|\n",
            "+--------------------+--------------+\n",
            "|Pirates of the Ca...|        117075|\n",
            "|Lord of the Rings...|        102721|\n",
            "|     The Sixth Sense|        102376|\n",
            "|     American Beauty|        101450|\n",
            "|      Bruce Almighty|         98545|\n",
            "|The Silence of th...|         95053|\n",
            "|Finding Nemo (Wid...|         94235|\n",
            "|     The Italian Job|         93886|\n",
            "|             Shrek 2|         92893|\n",
            "|          Braveheart|         91502|\n",
            "|               Ghost|         87082|\n",
            "|     What Women Want|         86756|\n",
            "|    The Last Samurai|         86354|\n",
            "|      50 First Dates|         85605|\n",
            "|The Bourne Supremacy|         85247|\n",
            "|    A Beautiful Mind|         82347|\n",
            "|     Men in Black II|         81371|\n",
            "|The Matrix: Reloaded|         79504|\n",
            "|               Speed|         79476|\n",
            "|Sleepless in Seattle|         78996|\n",
            "+--------------------+--------------+\n",
            "only showing top 20 rows\n",
            "\n"
          ]
        }
      ]
    },
    {
      "cell_type": "markdown",
      "source": [
        "Por último, o objetivo é saber a média de avaliação por ano"
      ],
      "metadata": {
        "id": "InZxeh3f64fM"
      }
    },
    {
      "cell_type": "code",
      "source": [
        "consulta05_nx = df_netflix_movie.join(\n",
        "                df_netflix_rating,\n",
        "                df_netflix_movie.Movie_ID == df_netflix_rating.Movie_ID,\n",
        "                \"left\") \\\n",
        "                .groupBy(df_netflix_movie.Year.alias(\"ano\")) \\\n",
        "                .agg(F.avg(df_netflix_rating.Rating).alias(\"avaliacoes\")) \\\n",
        "                .filter(col(\"avaliacoes\").isNotNull()) \\\n",
        "                .orderBy(col(\"avaliacoes\").desc())"
      ],
      "metadata": {
        "id": "i7M1e3_qnqHz"
      },
      "execution_count": null,
      "outputs": []
    },
    {
      "cell_type": "markdown",
      "source": [
        "Os filmes de 1974 são os que possuem maior média de avaliação:"
      ],
      "metadata": {
        "id": "jd2CvQyJ7Uih"
      }
    },
    {
      "cell_type": "code",
      "source": [
        "consulta05_nx.show()"
      ],
      "metadata": {
        "colab": {
          "base_uri": "https://localhost:8080/"
        },
        "id": "tEJZmClWqF_u",
        "outputId": "cb48da42-9d12-4c0c-8a59-14659e2aa543"
      },
      "execution_count": null,
      "outputs": [
        {
          "output_type": "stream",
          "name": "stdout",
          "text": [
            "+----+------------------+\n",
            "| ano|        avaliacoes|\n",
            "+----+------------------+\n",
            "|1974| 4.109570377896572|\n",
            "|1939| 4.107672595089205|\n",
            "|1954| 4.082166977493708|\n",
            "|1938| 4.065483476132191|\n",
            "|1959|  4.02670545071843|\n",
            "|1952| 3.972993883126617|\n",
            "|1946|3.9582454192115493|\n",
            "|1949| 3.956489275047516|\n",
            "|1941|3.9408571751667987|\n",
            "|1935| 3.927168416958382|\n",
            "|1961|3.9251369757796097|\n",
            "|1934| 3.917944578961528|\n",
            "|1936| 3.916519347868788|\n",
            "|1962|3.8925190194420964|\n",
            "|1965| 3.892512491894572|\n",
            "|1955| 3.865171413951902|\n",
            "|1963|3.8642983664632946|\n",
            "|1973|3.8636710308885216|\n",
            "|1964|3.8438571973065683|\n",
            "|1925|3.8184647302904566|\n",
            "+----+------------------+\n",
            "only showing top 20 rows\n",
            "\n"
          ]
        }
      ]
    }
  ]
}