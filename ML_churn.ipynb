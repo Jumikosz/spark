{
  "nbformat": 4,
  "nbformat_minor": 0,
  "metadata": {
    "colab": {
      "provenance": [],
      "authorship_tag": "ABX9TyPgpoq6+2MK01qNJx3NLl2u",
      "include_colab_link": true
    },
    "kernelspec": {
      "name": "python3",
      "display_name": "Python 3"
    },
    "language_info": {
      "name": "python"
    }
  },
  "cells": [
    {
      "cell_type": "markdown",
      "metadata": {
        "id": "view-in-github",
        "colab_type": "text"
      },
      "source": [
        "<a href=\"https://colab.research.google.com/github/Jumikosz/spark/blob/main/ML_churn.ipynb\" target=\"_parent\"><img src=\"https://colab.research.google.com/assets/colab-badge.svg\" alt=\"Open In Colab\"/></a>"
      ]
    },
    {
      "cell_type": "markdown",
      "source": [
        "# Trabalho de ML com Spark | Regressão logística"
      ],
      "metadata": {
        "id": "XWW-DPWRXmCX"
      }
    },
    {
      "cell_type": "markdown",
      "source": [
        "## Objetivo\n",
        "O objetivo deste trabalho é utilizar Spark e técnica de classificação, com foco na regressão logística, para desenvolver um modelo preditivo que avalie a probabilidade de um cliente cancelar (churn) ou permanecer ativo em um determinado serviço ou produto."
      ],
      "metadata": {
        "id": "tzFuRMY_YQFb"
      }
    },
    {
      "cell_type": "markdown",
      "source": [
        "Instalação do PySpark no notebook, criando sessão e conexão com o Google Drive"
      ],
      "metadata": {
        "id": "9_RjVChaX99Y"
      }
    },
    {
      "cell_type": "code",
      "execution_count": 2,
      "metadata": {
        "colab": {
          "base_uri": "https://localhost:8080/"
        },
        "id": "CH0UhkjR5w9M",
        "outputId": "2c19d398-7c13-4ac1-f6c3-f6ff439cb417"
      },
      "outputs": [
        {
          "output_type": "stream",
          "name": "stdout",
          "text": [
            "Collecting pyspark\n",
            "  Downloading pyspark-3.5.0.tar.gz (316.9 MB)\n",
            "\u001b[2K     \u001b[90m━━━━━━━━━━━━━━━━━━━━━━━━━━━━━━━━━━━━━━━━\u001b[0m \u001b[32m316.9/316.9 MB\u001b[0m \u001b[31m3.1 MB/s\u001b[0m eta \u001b[36m0:00:00\u001b[0m\n",
            "\u001b[?25h  Preparing metadata (setup.py) ... \u001b[?25l\u001b[?25hdone\n",
            "Requirement already satisfied: py4j==0.10.9.7 in /usr/local/lib/python3.10/dist-packages (from pyspark) (0.10.9.7)\n",
            "Building wheels for collected packages: pyspark\n",
            "  Building wheel for pyspark (setup.py) ... \u001b[?25l\u001b[?25hdone\n",
            "  Created wheel for pyspark: filename=pyspark-3.5.0-py2.py3-none-any.whl size=317425344 sha256=f7377682cbacf0829960a04a0791a7fe46cbea14f3c879ee9141f5caf2458b74\n",
            "  Stored in directory: /root/.cache/pip/wheels/41/4e/10/c2cf2467f71c678cfc8a6b9ac9241e5e44a01940da8fbb17fc\n",
            "Successfully built pyspark\n",
            "Installing collected packages: pyspark\n",
            "Successfully installed pyspark-3.5.0\n"
          ]
        }
      ],
      "source": [
        "!pip install pyspark"
      ]
    },
    {
      "cell_type": "code",
      "source": [
        "from pyspark.sql import SparkSession\n",
        "\n",
        "spark = SparkSession.builder.appName(\"ml_churn_pos\").getOrCreate()"
      ],
      "metadata": {
        "id": "h6dHXSF08oud"
      },
      "execution_count": 3,
      "outputs": []
    },
    {
      "cell_type": "code",
      "source": [
        "from google.colab import drive\n",
        "\n",
        "drive.mount('/content/drive')"
      ],
      "metadata": {
        "id": "q9n2yShA8q09",
        "colab": {
          "base_uri": "https://localhost:8080/"
        },
        "outputId": "c70bcf69-b2e7-4e05-dc9b-ac1de8bc26de"
      },
      "execution_count": 4,
      "outputs": [
        {
          "output_type": "stream",
          "name": "stdout",
          "text": [
            "Mounted at /content/drive\n"
          ]
        }
      ]
    },
    {
      "cell_type": "code",
      "source": [
        "df_churn = spark.read.csv(path=\"/content/drive/MyDrive/Datasets/dataset_churn_cliente.csv\", \\\n",
        "                          header=True, \\\n",
        "                          inferSchema=True)"
      ],
      "metadata": {
        "id": "V14sWCEcFrIV"
      },
      "execution_count": 38,
      "outputs": []
    },
    {
      "cell_type": "markdown",
      "source": [
        "Exibindo o Dataset e removendo o campo ID_CLIENTE, pois ele não será necessário"
      ],
      "metadata": {
        "id": "nigJX2kEYAvY"
      }
    },
    {
      "cell_type": "code",
      "source": [
        "df_churn = df_churn.drop(\"ID_CLIENTE\")\n",
        "df_churn.show(5, truncate = False)\n"
      ],
      "metadata": {
        "id": "TeXjEm87IAPT",
        "colab": {
          "base_uri": "https://localhost:8080/"
        },
        "outputId": "262df89e-2586-4e8b-8b01-10a636adb3df"
      },
      "execution_count": 59,
      "outputs": [
        {
          "output_type": "stream",
          "name": "stdout",
          "text": [
            "+------+------+-------+-----+--------------------+-------+--------+-------+---------+--------+-------+--------------------+------------------+-----+-----------+\n",
            "|ESTADO|GENERO|DEVICE |IDADE|TRANSACOES_DISTINTAS|FATBRUT|MEUSALDO|VOUCHER|PROD_DIST|RECENCIA|DURACAO|DIAS_DIST_COM_COMPRA|FREQUENCIA_COMPRA |CHURN|CHURN_INDEX|\n",
            "+------+------+-------+-----+--------------------+-------+--------+-------+---------+--------+-------+--------------------+------------------+-----+-----------+\n",
            "|PR    |M     |ANDROID|30.0 |91                  |2136.04|0.0     |0.0    |94       |17      |1324   |88                  |15.022988505747126|1    |0.0        |\n",
            "|PR    |M     |ANDROID|39.0 |50                  |615.29 |0.0     |0.0    |39       |34      |1288   |47                  |27.26086956521739 |1    |0.0        |\n",
            "|PR    |F     |ANDROID|32.0 |15                  |183.03 |0.0     |0.0    |21       |313     |1242   |13                  |77.41666666666667 |1    |0.0        |\n",
            "|PR    |M     |IOS    |69.0 |16                  |518.63 |0.0     |0.0    |21       |324     |506    |12                  |16.545454545454547|1    |0.0        |\n",
            "|PR    |M     |ANDROID|34.0 |101                 |1292.49|0.0     |0.0    |80       |932     |1326   |94                  |4.236559139784946 |1    |0.0        |\n",
            "+------+------+-------+-----+--------------------+-------+--------+-------+---------+--------+-------+--------------------+------------------+-----+-----------+\n",
            "only showing top 5 rows\n",
            "\n"
          ]
        }
      ]
    },
    {
      "cell_type": "markdown",
      "source": [
        "# Esquema:\n",
        "- ID_CLIENTE = Identificador do cliente\n",
        "- ESTADO = Estado em que o cliente vive (Ex. Paraná)\n",
        "- GENERO = Genêro do cliente\n",
        "- DEVICE  = Qual é o sistema do celular do cliente\n",
        "- IDADE = Idade do cliente\n",
        "- TRANSACOES_DISTINTAS = Quantidades de transações (compras) que o cliente já fez\n",
        "- FATBRUT = Qual o valor total gasto no aplicativo\n",
        "- MEUSALDO = Valor de saldo em carteira no aplicativo\n",
        "- VOUCHER = valor de voucher\n",
        "- PROD_DIST = Quantidade de produtos distintos que já comprou\n",
        "- RECENCIA = Distância de dias da última compra\n",
        "- DURACAO = Tempo no aplicativo\n",
        "- DIAS_DIST_COM_COMPRA = Dias distintos com compra\n",
        "- FREQUENCIA_COMPRA  = Frequência de compra, média de dias\n",
        "- CHURN  = variável que assume valores 0 (se o cliente deu churn) e 1 se não\n",
        "\n"
      ],
      "metadata": {
        "id": "wZPiVqBjZfei"
      }
    },
    {
      "cell_type": "code",
      "source": [
        "df_churn.printSchema()"
      ],
      "metadata": {
        "id": "HFvwMDPcIFo4",
        "colab": {
          "base_uri": "https://localhost:8080/"
        },
        "outputId": "532cf579-250e-4df6-b995-e3cf3b677d0a"
      },
      "execution_count": 60,
      "outputs": [
        {
          "output_type": "stream",
          "name": "stdout",
          "text": [
            "root\n",
            " |-- ESTADO: string (nullable = true)\n",
            " |-- GENERO: string (nullable = true)\n",
            " |-- DEVICE: string (nullable = true)\n",
            " |-- IDADE: double (nullable = true)\n",
            " |-- TRANSACOES_DISTINTAS: integer (nullable = true)\n",
            " |-- FATBRUT: double (nullable = true)\n",
            " |-- MEUSALDO: double (nullable = true)\n",
            " |-- VOUCHER: double (nullable = true)\n",
            " |-- PROD_DIST: integer (nullable = true)\n",
            " |-- RECENCIA: integer (nullable = true)\n",
            " |-- DURACAO: integer (nullable = true)\n",
            " |-- DIAS_DIST_COM_COMPRA: integer (nullable = true)\n",
            " |-- FREQUENCIA_COMPRA: double (nullable = true)\n",
            " |-- CHURN: integer (nullable = true)\n",
            " |-- CHURN_INDEX: double (nullable = false)\n",
            "\n"
          ]
        }
      ]
    },
    {
      "cell_type": "markdown",
      "source": [
        "Importando os pacotes para trabalhar com vetores"
      ],
      "metadata": {
        "id": "p3dRFugad06-"
      }
    },
    {
      "cell_type": "code",
      "source": [
        "from pyspark.ml.feature import VectorAssembler, StringIndexer"
      ],
      "metadata": {
        "id": "Blcrat6vJ4w0"
      },
      "execution_count": 40,
      "outputs": []
    },
    {
      "cell_type": "markdown",
      "source": [
        "Transformação de atributos categóricos: Criando a coluna **CHURN_INDEX**"
      ],
      "metadata": {
        "id": "JhbNJqIigyBa"
      }
    },
    {
      "cell_type": "code",
      "source": [
        "churn_index = StringIndexer(inputCol=\"CHURN\", outputCol=\"CHURN_INDEX\")\n",
        "model_label = churn_index.fit(df_churn)\n",
        "df_churn = model_label.transform(df_churn)"
      ],
      "metadata": {
        "id": "FYlGXT3afmtF"
      },
      "execution_count": 41,
      "outputs": []
    },
    {
      "cell_type": "code",
      "source": [
        "df_churn.show()"
      ],
      "metadata": {
        "id": "SSFOQWD0nLah",
        "colab": {
          "base_uri": "https://localhost:8080/"
        },
        "outputId": "1763cf92-a565-4e44-c98b-064932ddbea1"
      },
      "execution_count": 42,
      "outputs": [
        {
          "output_type": "stream",
          "name": "stdout",
          "text": [
            "+----------+------+------+-------+-----+--------------------+-------+--------+-------+---------+--------+-------+--------------------+------------------+-----+-----------+\n",
            "|ID_CLIENTE|ESTADO|GENERO| DEVICE|IDADE|TRANSACOES_DISTINTAS|FATBRUT|MEUSALDO|VOUCHER|PROD_DIST|RECENCIA|DURACAO|DIAS_DIST_COM_COMPRA| FREQUENCIA_COMPRA|CHURN|CHURN_INDEX|\n",
            "+----------+------+------+-------+-----+--------------------+-------+--------+-------+---------+--------+-------+--------------------+------------------+-----+-----------+\n",
            "|       476|    PR|     M|ANDROID| 30.0|                  91|2136.04|     0.0|    0.0|       94|      17|   1324|                  88|15.022988505747126|    1|        0.0|\n",
            "|       480|    PR|     M|ANDROID| 39.0|                  50| 615.29|     0.0|    0.0|       39|      34|   1288|                  47| 27.26086956521739|    1|        0.0|\n",
            "|       482|    PR|     F|ANDROID| 32.0|                  15| 183.03|     0.0|    0.0|       21|     313|   1242|                  13| 77.41666666666667|    1|        0.0|\n",
            "|       483|    PR|     M|    IOS| 69.0|                  16| 518.63|     0.0|    0.0|       21|     324|    506|                  12|16.545454545454547|    1|        0.0|\n",
            "|       486|    PR|     M|ANDROID| 34.0|                 101|1292.49|     0.0|    0.0|       80|     932|   1326|                  94| 4.236559139784946|    1|        0.0|\n",
            "|       488|    PR|     M|ANDROID| 31.0|                  38|1321.37|     0.0|    0.0|       57|     288|   1334|                  34|31.696969696969695|    1|        0.0|\n",
            "|       489|    PR|     M|ANDROID| 33.0|                  10| 170.29|     0.0|    0.0|       12|     778|   1213|                  10|48.333333333333336|    1|        0.0|\n",
            "|       493|    PR|     M|ANDROID| 41.0|                   3|  53.24|     0.0|    0.0|        4|     724|    933|                   3|             104.5|    1|        0.0|\n",
            "|       496|    PR|     M|ANDROID| 31.0|                  20| 331.54|     0.0|    0.0|       36|     624|   1331|                  20| 37.21052631578947|    1|        0.0|\n",
            "|       500|    PR|     M|ANDROID| 37.0|                  99|1507.93|     0.0|    0.0|       95|     245|   1333|                  92|11.956043956043956|    1|        0.0|\n",
            "|       502|    PR|     M|ANDROID| 34.0|                  61| 972.03|     0.0|    0.0|       66|     416|   1332|                  50|18.693877551020407|    1|        0.0|\n",
            "|       510|    PR|     F|ANDROID| 35.0|                  38| 780.35|     0.0|    0.0|       54|       9|   1318|                  34|39.666666666666664|    0|        1.0|\n",
            "|       512|    PR|     M|ANDROID| 42.0|                 156|1301.04|     0.0|    0.0|       83|       4|    773|                 138| 5.613138686131387|    0|        1.0|\n",
            "|       514|    PR|     M|    IOS| 32.0|                  31|1898.07|     0.0|    0.0|       70|     630|   1281|                  28| 24.11111111111111|    1|        0.0|\n",
            "|       516|    PR|     M|ANDROID| 43.0|                  21| 262.02|     0.0|    0.0|       21|      44|   1290|                  19| 69.22222222222223|    0|        1.0|\n",
            "|       517|    PR|     M|ANDROID| 35.0|                  14| 629.94|     0.0|    0.0|       27|      46|    651|                  14| 46.53846153846154|    0|        1.0|\n",
            "|       524|    PR|     F|ANDROID| 35.0|                  22| 515.05|     0.0|    0.0|       29|     596|    737|                  21|              7.05|    1|        0.0|\n",
            "|       531|    PR|     F|ANDROID| 48.0|                 142| 888.63|     0.0|    0.0|       68|     420|   1155|                  86| 8.647058823529411|    1|        0.0|\n",
            "|       534|    PR|     M|ANDROID| 65.0|                  31| 928.14|     0.0|    0.0|       52|     469|   1330|                  29|             30.75|    1|        0.0|\n",
            "|       541|    PR|     M|    IOS| 43.0|                  15| 271.14|     0.0|    0.0|       29|     777|   1134|                  14| 27.46153846153846|    1|        0.0|\n",
            "+----------+------+------+-------+-----+--------------------+-------+--------+-------+---------+--------+-------+--------------------+------------------+-----+-----------+\n",
            "only showing top 20 rows\n",
            "\n"
          ]
        }
      ]
    },
    {
      "cell_type": "markdown",
      "source": [
        "Criando o vetor das features utilizando **VectorAssembler**"
      ],
      "metadata": {
        "id": "GFhtJLl1eOHk"
      }
    },
    {
      "cell_type": "code",
      "source": [
        "df_assembler = VectorAssembler(inputCols=[\n",
        "                                          \"TRANSACOES_DISTINTAS\",\n",
        "                                          \"FATBRUT\",\n",
        "                                          \"MEUSALDO\",\n",
        "                                          \"VOUCHER\",\n",
        "                                          \"PROD_DIST\",\n",
        "                                          \"RECENCIA\",\n",
        "                                          \"DURACAO\",\n",
        "                                          \"DIAS_DIST_COM_COMPRA\",\n",
        "                                          \"FREQUENCIA_COMPRA\"]\n",
        "                               ,outputCol=\"features\")\n",
        "\n",
        "df_features = df_assembler.transform(df_churn)\n"
      ],
      "metadata": {
        "id": "4T3aGlc5J_vp"
      },
      "execution_count": 43,
      "outputs": []
    },
    {
      "cell_type": "markdown",
      "source": [
        "Verificando se o vetor foi criado corretamente"
      ],
      "metadata": {
        "id": "rm2e-rz_eXxW"
      }
    },
    {
      "cell_type": "code",
      "source": [
        "df_features.select(df_features.features).show(20, False)"
      ],
      "metadata": {
        "id": "ykLHCTqLAcNl",
        "colab": {
          "base_uri": "https://localhost:8080/"
        },
        "outputId": "688f9b7e-b3b0-432e-f444-1a612c963ced"
      },
      "execution_count": 44,
      "outputs": [
        {
          "output_type": "stream",
          "name": "stdout",
          "text": [
            "+----------------------------------------------------------------+\n",
            "|features                                                        |\n",
            "+----------------------------------------------------------------+\n",
            "|[91.0,2136.04,0.0,0.0,94.0,17.0,1324.0,88.0,15.022988505747126] |\n",
            "|[50.0,615.29,0.0,0.0,39.0,34.0,1288.0,47.0,27.26086956521739]   |\n",
            "|[15.0,183.03,0.0,0.0,21.0,313.0,1242.0,13.0,77.41666666666667]  |\n",
            "|[16.0,518.63,0.0,0.0,21.0,324.0,506.0,12.0,16.545454545454547]  |\n",
            "|[101.0,1292.49,0.0,0.0,80.0,932.0,1326.0,94.0,4.236559139784946]|\n",
            "|[38.0,1321.37,0.0,0.0,57.0,288.0,1334.0,34.0,31.696969696969695]|\n",
            "|[10.0,170.29,0.0,0.0,12.0,778.0,1213.0,10.0,48.333333333333336] |\n",
            "|[3.0,53.24,0.0,0.0,4.0,724.0,933.0,3.0,104.5]                   |\n",
            "|[20.0,331.54,0.0,0.0,36.0,624.0,1331.0,20.0,37.21052631578947]  |\n",
            "|[99.0,1507.93,0.0,0.0,95.0,245.0,1333.0,92.0,11.956043956043956]|\n",
            "|[61.0,972.03,0.0,0.0,66.0,416.0,1332.0,50.0,18.693877551020407] |\n",
            "|[38.0,780.35,0.0,0.0,54.0,9.0,1318.0,34.0,39.666666666666664]   |\n",
            "|[156.0,1301.04,0.0,0.0,83.0,4.0,773.0,138.0,5.613138686131387]  |\n",
            "|[31.0,1898.07,0.0,0.0,70.0,630.0,1281.0,28.0,24.11111111111111] |\n",
            "|[21.0,262.02,0.0,0.0,21.0,44.0,1290.0,19.0,69.22222222222223]   |\n",
            "|[14.0,629.94,0.0,0.0,27.0,46.0,651.0,14.0,46.53846153846154]    |\n",
            "|[22.0,515.05,0.0,0.0,29.0,596.0,737.0,21.0,7.05]                |\n",
            "|[142.0,888.63,0.0,0.0,68.0,420.0,1155.0,86.0,8.647058823529411] |\n",
            "|[31.0,928.14,0.0,0.0,52.0,469.0,1330.0,29.0,30.75]              |\n",
            "|[15.0,271.14,0.0,0.0,29.0,777.0,1134.0,14.0,27.46153846153846]  |\n",
            "+----------------------------------------------------------------+\n",
            "only showing top 20 rows\n",
            "\n"
          ]
        }
      ]
    },
    {
      "cell_type": "markdown",
      "source": [
        "Definindo a variável **CHURN** (a qual vai ser feita a predição) como **label**"
      ],
      "metadata": {
        "id": "JqamshxFesfM"
      }
    },
    {
      "cell_type": "code",
      "source": [
        "df_churn_final = df_features.withColumnRenamed(\"CHURN_INDEX\", \"label\")\n",
        "df_churn_final = df_churn_final.select(\"label\", \"features\")\n",
        "df_churn_final.show(20, truncate = False)"
      ],
      "metadata": {
        "id": "FcIgmxsPA1Wt",
        "colab": {
          "base_uri": "https://localhost:8080/"
        },
        "outputId": "878bc02d-74bb-4045-b036-668f67771dfe"
      },
      "execution_count": 45,
      "outputs": [
        {
          "output_type": "stream",
          "name": "stdout",
          "text": [
            "+-----+----------------------------------------------------------------+\n",
            "|label|features                                                        |\n",
            "+-----+----------------------------------------------------------------+\n",
            "|0.0  |[91.0,2136.04,0.0,0.0,94.0,17.0,1324.0,88.0,15.022988505747126] |\n",
            "|0.0  |[50.0,615.29,0.0,0.0,39.0,34.0,1288.0,47.0,27.26086956521739]   |\n",
            "|0.0  |[15.0,183.03,0.0,0.0,21.0,313.0,1242.0,13.0,77.41666666666667]  |\n",
            "|0.0  |[16.0,518.63,0.0,0.0,21.0,324.0,506.0,12.0,16.545454545454547]  |\n",
            "|0.0  |[101.0,1292.49,0.0,0.0,80.0,932.0,1326.0,94.0,4.236559139784946]|\n",
            "|0.0  |[38.0,1321.37,0.0,0.0,57.0,288.0,1334.0,34.0,31.696969696969695]|\n",
            "|0.0  |[10.0,170.29,0.0,0.0,12.0,778.0,1213.0,10.0,48.333333333333336] |\n",
            "|0.0  |[3.0,53.24,0.0,0.0,4.0,724.0,933.0,3.0,104.5]                   |\n",
            "|0.0  |[20.0,331.54,0.0,0.0,36.0,624.0,1331.0,20.0,37.21052631578947]  |\n",
            "|0.0  |[99.0,1507.93,0.0,0.0,95.0,245.0,1333.0,92.0,11.956043956043956]|\n",
            "|0.0  |[61.0,972.03,0.0,0.0,66.0,416.0,1332.0,50.0,18.693877551020407] |\n",
            "|1.0  |[38.0,780.35,0.0,0.0,54.0,9.0,1318.0,34.0,39.666666666666664]   |\n",
            "|1.0  |[156.0,1301.04,0.0,0.0,83.0,4.0,773.0,138.0,5.613138686131387]  |\n",
            "|0.0  |[31.0,1898.07,0.0,0.0,70.0,630.0,1281.0,28.0,24.11111111111111] |\n",
            "|1.0  |[21.0,262.02,0.0,0.0,21.0,44.0,1290.0,19.0,69.22222222222223]   |\n",
            "|1.0  |[14.0,629.94,0.0,0.0,27.0,46.0,651.0,14.0,46.53846153846154]    |\n",
            "|0.0  |[22.0,515.05,0.0,0.0,29.0,596.0,737.0,21.0,7.05]                |\n",
            "|0.0  |[142.0,888.63,0.0,0.0,68.0,420.0,1155.0,86.0,8.647058823529411] |\n",
            "|0.0  |[31.0,928.14,0.0,0.0,52.0,469.0,1330.0,29.0,30.75]              |\n",
            "|0.0  |[15.0,271.14,0.0,0.0,29.0,777.0,1134.0,14.0,27.46153846153846]  |\n",
            "+-----+----------------------------------------------------------------+\n",
            "only showing top 20 rows\n",
            "\n"
          ]
        }
      ]
    },
    {
      "cell_type": "markdown",
      "source": [
        "Usando *randomSplit* para separar o dataset em dois, um será usado para treinamento e o outro para validação dos resultados"
      ],
      "metadata": {
        "id": "VHho_G6VfE0C"
      }
    },
    {
      "cell_type": "code",
      "source": [
        "(trainingData, testData) = df_churn_final.randomSplit([0.7, 0.3])\n",
        "print(trainingData.count(), testData.count())"
      ],
      "metadata": {
        "id": "baaSxHEVDYyg",
        "colab": {
          "base_uri": "https://localhost:8080/"
        },
        "outputId": "1129067c-5ccb-4c7a-d720-a6afdf7185d1"
      },
      "execution_count": 46,
      "outputs": [
        {
          "output_type": "stream",
          "name": "stdout",
          "text": [
            "288725 123677\n"
          ]
        }
      ]
    },
    {
      "cell_type": "code",
      "source": [
        "trainingData.show(5)\n",
        "testData.show(5)"
      ],
      "metadata": {
        "id": "yQPpqsOoDhCM",
        "colab": {
          "base_uri": "https://localhost:8080/"
        },
        "outputId": "82ad3275-034a-42e7-9613-1723cd1cc135"
      },
      "execution_count": 47,
      "outputs": [
        {
          "output_type": "stream",
          "name": "stdout",
          "text": [
            "+-----+--------------------+\n",
            "|label|            features|\n",
            "+-----+--------------------+\n",
            "|  0.0|[1.0,0.97,0.0,0.0...|\n",
            "|  0.0|[1.0,0.99,0.0,0.0...|\n",
            "|  0.0|[1.0,1.0,0.0,0.0,...|\n",
            "|  0.0|[1.0,1.16,0.0,0.0...|\n",
            "|  0.0|[1.0,1.2,0.0,0.0,...|\n",
            "+-----+--------------------+\n",
            "only showing top 5 rows\n",
            "\n",
            "+-----+--------------------+\n",
            "|label|            features|\n",
            "+-----+--------------------+\n",
            "|  0.0|[1.0,0.09,0.0,0.0...|\n",
            "|  0.0|[1.0,0.98,0.0,0.0...|\n",
            "|  0.0|[1.0,1.13,0.0,0.0...|\n",
            "|  0.0|[1.0,1.29,0.0,0.0...|\n",
            "|  0.0|[1.0,1.39,0.0,0.0...|\n",
            "+-----+--------------------+\n",
            "only showing top 5 rows\n",
            "\n"
          ]
        }
      ]
    },
    {
      "cell_type": "markdown",
      "source": [
        "Importando pacotes para um modelo de Regressão Logística"
      ],
      "metadata": {
        "id": "h6I5kFO2hkSf"
      }
    },
    {
      "cell_type": "code",
      "source": [
        "from pyspark.ml.classification import LogisticRegression\n",
        "from pyspark.ml.evaluation import BinaryClassificationEvaluator"
      ],
      "metadata": {
        "id": "Xk4m97ZRDx0G"
      },
      "execution_count": 48,
      "outputs": []
    },
    {
      "cell_type": "code",
      "source": [
        "rl = LogisticRegression()"
      ],
      "metadata": {
        "id": "YaxTYTmIEHOR"
      },
      "execution_count": 49,
      "outputs": []
    },
    {
      "cell_type": "markdown",
      "source": [
        "Treinamento de um modelo de Regressão Logística"
      ],
      "metadata": {
        "id": "N-fzKfuQhdh1"
      }
    },
    {
      "cell_type": "code",
      "source": [
        "rl_modelo = rl.fit(trainingData)"
      ],
      "metadata": {
        "id": "H0DAVIAbEPBH"
      },
      "execution_count": 50,
      "outputs": []
    },
    {
      "cell_type": "markdown",
      "source": [
        "Resultados do modelo:"
      ],
      "metadata": {
        "id": "2_Gh3xuShqch"
      }
    },
    {
      "cell_type": "code",
      "source": [
        "resultado =rl_modelo.summary\n",
        "print(resultado.accuracy)\n",
        "print(resultado.truePositiveRateByLabel)\n",
        "print(resultado.falsePositiveRateByLabel)\n",
        "print(resultado.precisionByLabel)\n",
        "print(resultado.recallByLabel)"
      ],
      "metadata": {
        "id": "5o9w_51OFoHM",
        "colab": {
          "base_uri": "https://localhost:8080/"
        },
        "outputId": "c541aa81-ace9-433f-e8b5-8e9b01e83041"
      },
      "execution_count": 51,
      "outputs": [
        {
          "output_type": "stream",
          "name": "stdout",
          "text": [
            "0.9764031517880336\n",
            "[0.9796015250641624, 0.9689262924257838]\n",
            "[0.031073707574216222, 0.020398474935837525]\n",
            "[0.9866124790819986, 0.953093551358297]\n",
            "[0.9796015250641624, 0.9689262924257838]\n"
          ]
        }
      ]
    },
    {
      "cell_type": "code",
      "source": [
        "print(f\"Taxa de Verdadeiros Positivos: {resultado.truePositiveRateByLabel[1] * 100} %\")\n",
        "print(f\"Taxa de Falsos Positivos: {resultado.falsePositiveRateByLabel[1] * 100} %\")\n",
        "print(f\"Precisão: {resultado.precisionByLabel[1] * 100} %\")\n",
        "print(f\"Recall: {resultado.recallByLabel[1] *100} %\")\n",
        "print(f\"Acurácia: {resultado.accuracy * 100} %\")"
      ],
      "metadata": {
        "id": "unrhl7bVJoCt",
        "colab": {
          "base_uri": "https://localhost:8080/"
        },
        "outputId": "6ab658c1-600e-43aa-d7e3-a40c3c42e2ef"
      },
      "execution_count": 52,
      "outputs": [
        {
          "output_type": "stream",
          "name": "stdout",
          "text": [
            "Taxa de Verdadeiros Positivos: 96.89262924257838 %\n",
            "Taxa de Falsos Positivos: 2.0398474935837525 %\n",
            "Precisão: 95.3093551358297 %\n",
            "Recall: 96.89262924257838 %\n",
            "Acurácia: 97.64031517880336 %\n"
          ]
        }
      ]
    },
    {
      "cell_type": "code",
      "source": [
        "df_resultado = rl_modelo.transform(testData)\n",
        "df_resultado.show(5)"
      ],
      "metadata": {
        "id": "W_A3PjNEKiSi",
        "colab": {
          "base_uri": "https://localhost:8080/"
        },
        "outputId": "20fa7867-0596-4178-8e80-902ffa460959"
      },
      "execution_count": 53,
      "outputs": [
        {
          "output_type": "stream",
          "name": "stdout",
          "text": [
            "+-----+--------------------+--------------------+--------------------+----------+\n",
            "|label|            features|       rawPrediction|         probability|prediction|\n",
            "+-----+--------------------+--------------------+--------------------+----------+\n",
            "|  0.0|[1.0,0.09,0.0,0.0...|[2.31548408117528...|[0.91015133077346...|       0.0|\n",
            "|  0.0|[1.0,0.98,0.0,0.0...|[173.751271979794...|           [1.0,0.0]|       0.0|\n",
            "|  0.0|[1.0,1.13,0.0,0.0...|[29.2457794237516...|[0.99999999999980...|       0.0|\n",
            "|  0.0|[1.0,1.29,0.0,0.0...|[259.797622017221...|           [1.0,0.0]|       0.0|\n",
            "|  0.0|[1.0,1.39,0.0,0.0...|[143.864811611921...|           [1.0,0.0]|       0.0|\n",
            "+-----+--------------------+--------------------+--------------------+----------+\n",
            "only showing top 5 rows\n",
            "\n"
          ]
        }
      ]
    },
    {
      "cell_type": "markdown",
      "source": [
        "Visualizando a matriz de confusão"
      ],
      "metadata": {
        "id": "bVi8OqC5h8Cd"
      }
    },
    {
      "cell_type": "code",
      "source": [
        "from sklearn.metrics import classification_report, confusion_matrix\n",
        "\n",
        "y_true = df_resultado.select(['label']).collect()\n",
        "y_pred = df_resultado.select(['prediction']).collect()\n",
        "\n",
        "from sklearn.metrics import classification_report, confusion_matrix\n",
        "print(classification_report(y_true, y_pred))"
      ],
      "metadata": {
        "id": "zuuv9FN2oKF9",
        "colab": {
          "base_uri": "https://localhost:8080/"
        },
        "outputId": "c2301ba4-ca1e-4dc7-b9a2-eb2065949636"
      },
      "execution_count": 54,
      "outputs": [
        {
          "output_type": "stream",
          "name": "stdout",
          "text": [
            "              precision    recall  f1-score   support\n",
            "\n",
            "         0.0       0.99      0.98      0.98     86790\n",
            "         1.0       0.95      0.97      0.96     36887\n",
            "\n",
            "    accuracy                           0.98    123677\n",
            "   macro avg       0.97      0.97      0.97    123677\n",
            "weighted avg       0.98      0.98      0.98    123677\n",
            "\n"
          ]
        }
      ]
    },
    {
      "cell_type": "markdown",
      "source": [
        "Gráfico de curva ROC (é uma representação gráfica que ilustra o desempenho de um sistema classificador binário à medida que o seu limiar de discriminação varia)"
      ],
      "metadata": {
        "id": "dVzwgnLCiMPO"
      }
    },
    {
      "cell_type": "code",
      "source": [
        "evaluator = BinaryClassificationEvaluator()\n",
        "roc = evaluator.evaluate(df_resultado)\n",
        "print(roc)"
      ],
      "metadata": {
        "id": "X63Rma8OXAO8",
        "colab": {
          "base_uri": "https://localhost:8080/"
        },
        "outputId": "dfdc2f88-8390-4b41-ce57-f519c69604e7"
      },
      "execution_count": 55,
      "outputs": [
        {
          "output_type": "stream",
          "name": "stdout",
          "text": [
            "0.9976791192145998\n"
          ]
        }
      ]
    },
    {
      "cell_type": "code",
      "source": [
        "import matplotlib.pyplot as plt\n",
        "import numpy as np\n",
        "\n",
        "resultado = rl_modelo.summary\n",
        "fpr = resultado.roc.toPandas()['FPR']\n",
        "tpr = resultado.roc.toPandas()['TPR']\n",
        "\n",
        "plt.figure(figsize=(8, 6))\n",
        "plt.plot(fpr, tpr, color='green', lw=2, label='Curva ROC')\n",
        "plt.plot([0, 1], [0, 1], color='gray', linestyle='-.')\n",
        "plt.xlim([0.0, 1.0])\n",
        "plt.ylim([0.0, 1.05])\n",
        "plt.xlabel('Taxa de Falsos Positivos (FPR)')\n",
        "plt.ylabel('Taxa de Verdadeiros Positivos (TPR)')\n",
        "plt.title('Curva ROC')\n",
        "plt.legend(loc='lower right')\n",
        "plt.show()\n"
      ],
      "metadata": {
        "id": "3MgMR70ZJ-Ah",
        "colab": {
          "base_uri": "https://localhost:8080/",
          "height": 564
        },
        "outputId": "5f03f64a-d6ef-4ba1-c92e-bd649f53bd94"
      },
      "execution_count": 56,
      "outputs": [
        {
          "output_type": "display_data",
          "data": {
            "text/plain": [
              "<Figure size 800x600 with 1 Axes>"
            ],
            "image/png": "[encoded data removed]"
          },
          "metadata": {}
        }
      ]
    },
    {
      "cell_type": "code",
      "source": [
        "from pyspark.ml.evaluation import MulticlassClassificationEvaluator"
      ],
      "metadata": {
        "id": "_6uw8MQmLoBZ"
      },
      "execution_count": null,
      "outputs": []
    },
    {
      "cell_type": "markdown",
      "source": [
        "Previsões erradas e corretas e matriz de confusão em quantidade"
      ],
      "metadata": {
        "id": "dzQ2Rrp0iUa9"
      }
    },
    {
      "cell_type": "code",
      "source": [
        "correct_predictions = df_resultado.filter(df_resultado[\"label\"] == df_resultado[\"prediction\"]).count()\n",
        "incorrect_predictions = df_resultado.filter(df_resultado[\"label\"] != df_resultado[\"prediction\"]).count()\n",
        "\n",
        "print(f\"Previsões corretas: {correct_predictions}\")\n",
        "print(f\"Previsões incorretas: {incorrect_predictions}\")\n",
        "confusion_matrix = df_resultado.crosstab(\"label\", \"prediction\")\n",
        "confusion_matrix.show()\n"
      ],
      "metadata": {
        "id": "wuc-JbdgM4HS",
        "colab": {
          "base_uri": "https://localhost:8080/"
        },
        "outputId": "6a2955c1-434d-453f-cfcc-e923639b2ee2"
      },
      "execution_count": 57,
      "outputs": [
        {
          "output_type": "stream",
          "name": "stdout",
          "text": [
            "Previsões corretas: 120778\n",
            "Previsões incorretas: 2899\n",
            "+----------------+-----+-----+\n",
            "|label_prediction|  0.0|  1.0|\n",
            "+----------------+-----+-----+\n",
            "|             1.0| 1126|35761|\n",
            "|             0.0|85017| 1773|\n",
            "+----------------+-----+-----+\n",
            "\n"
          ]
        }
      ]
    },
    {
      "cell_type": "markdown",
      "source": [
        "## Sugestões de melhoria:\n",
        "\n",
        "Afim de melhorar o trabalho e os resultados apresentados gostaria de utilizar outros algoritmos de ML para avaliar qual apresentaria o melhor resultado, como por exemplo árvores de decisão, fazer o tratamento de desequilíbro de classes usando oversampling ou técnica similar.\n",
        "Além disso, gostaria de avaliar os resultados em outras bases de teste e plotar mais gráficos, como por exemplo o de matrix de correlação para entender melhor o comportamento das variáveis.\n"
      ],
      "metadata": {
        "id": "GVaZg0Ykjk3F"
      }
    }
  ]
}